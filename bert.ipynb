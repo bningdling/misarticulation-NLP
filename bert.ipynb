{
 "cells": [
  {
   "cell_type": "code",
   "execution_count": 7,
   "metadata": {},
   "outputs": [],
   "source": [
    "import pandas as pd\n",
    "import numpy as np\n",
    "\n",
    "import torch\n",
    "import torch.nn as nn\n",
    "from torch.utils.data import Dataset, DataLoader\n",
    "\n",
    "from transformers import BertTokenizer, BertModel\n",
    "from pytorch_pretrained_bert import BertAdam\n",
    "\n",
    "from sklearn.metrics import mean_absolute_error, mean_squared_error, median_absolute_error\n",
    "from tqdm import tqdm"
   ]
  },
  {
   "cell_type": "code",
   "execution_count": 8,
   "metadata": {},
   "outputs": [],
   "source": [
    "data = pd.read_csv('CLEAN.csv',index_col=0)\n",
    "# print(data['misarticulation_index'].values[:15])\n",
    "data = data.loc[data['first_lang_english']==1]\n",
    "data.drop(columns=['first_lang_english'],inplace=True)\n",
    "data = data[['response_text','misarticulation_index']]\n",
    "\n",
    "data['misarticulation_index'] = (data['misarticulation_index']/0.33333).astype(int).astype(float)/18\n",
    "# print(data['misarticulation_index'].values[:15])"
   ]
  },
  {
   "cell_type": "code",
   "execution_count": 31,
   "metadata": {},
   "outputs": [],
   "source": [
    "split_ = np.random.RandomState(seed=0).permutation(data.shape[0])\n",
    "num_train = int(data.shape[0]*0.7)\n",
    "\n",
    "data_train, data_test =data[:num_train], data[num_train:]"
   ]
  },
  {
   "cell_type": "code",
   "execution_count": 32,
   "metadata": {},
   "outputs": [],
   "source": [
    "class TMPDataset(Dataset):\n",
    "    def __init__(self, df):\n",
    "        self.df = df\n",
    "        self.X = df['response_text'].values\n",
    "        self.y = df['misarticulation_index'].values\n",
    "\n",
    "    def __len__(self):\n",
    "        return self.df.shape[0]\n",
    "\n",
    "    def __getitem__(self, idx):\n",
    "        return self.X[idx], self.y[idx]\n",
    "\n",
    "batch_size = 8\n",
    "    \n",
    "train_dataset = TMPDataset(data_train)\n",
    "test_dataset = TMPDataset(data_test)\n",
    "\n",
    "train_dataloader = DataLoader(train_dataset, batch_size=batch_size, shuffle=True, drop_last=True)\n",
    "test_dataloader = DataLoader(test_dataset, batch_size=batch_size, shuffle=False, drop_last=False)"
   ]
  },
  {
   "cell_type": "code",
   "execution_count": 33,
   "metadata": {},
   "outputs": [
    {
     "name": "stderr",
     "output_type": "stream",
     "text": [
      "Some weights of the model checkpoint at bert-base-uncased were not used when initializing BertForMaskedLM: ['cls.seq_relationship.bias', 'cls.seq_relationship.weight']\n",
      "- This IS expected if you are initializing BertForMaskedLM from the checkpoint of a model trained on another task or with another architecture (e.g. initializing a BertForSequenceClassification model from a BertForPreTraining model).\n",
      "- This IS NOT expected if you are initializing BertForMaskedLM from the checkpoint of a model that you expect to be exactly identical (initializing a BertForSequenceClassification model from a BertForSequenceClassification model).\n"
     ]
    }
   ],
   "source": [
    "from transformers import AutoTokenizer, AutoModelForMaskedLM\n",
    "\n",
    "tokenizer = AutoTokenizer.from_pretrained(\"bert-base-uncased\")\n",
    "\n",
    "model = AutoModelForMaskedLM.from_pretrained(\"bert-base-uncased\")"
   ]
  },
  {
   "cell_type": "code",
   "execution_count": 41,
   "metadata": {},
   "outputs": [
    {
     "name": "stderr",
     "output_type": "stream",
     "text": [
      "Some weights of the model checkpoint at bert-base-uncased were not used when initializing BertModel: ['cls.predictions.bias', 'cls.predictions.transform.LayerNorm.bias', 'cls.predictions.decoder.weight', 'cls.predictions.transform.dense.bias', 'cls.predictions.transform.LayerNorm.weight', 'cls.seq_relationship.weight', 'cls.seq_relationship.bias', 'cls.predictions.transform.dense.weight']\n",
      "- This IS expected if you are initializing BertModel from the checkpoint of a model trained on another task or with another architecture (e.g. initializing a BertForSequenceClassification model from a BertForPreTraining model).\n",
      "- This IS NOT expected if you are initializing BertModel from the checkpoint of a model that you expect to be exactly identical (initializing a BertForSequenceClassification model from a BertForSequenceClassification model).\n"
     ]
    }
   ],
   "source": [
    "tokenizer = BertTokenizer.from_pretrained(pretrained_model_name_or_path = \"bert-base-uncased\") # bert-base-uncased\n",
    "model = BertModel.from_pretrained(pretrained_model_name_or_path = \"bert-base-uncased\") # bert-base-uncased\n",
    "# tokenizer.save_pretrained('./')\n",
    "# model.save_pretrained('./')"
   ]
  },
  {
   "cell_type": "code",
   "execution_count": 35,
   "metadata": {},
   "outputs": [],
   "source": [
    "regressor = nn.Sequential(nn.Linear(768,64),nn.ELU(),nn.Linear(64,1))"
   ]
  },
  {
   "cell_type": "code",
   "execution_count": 37,
   "metadata": {},
   "outputs": [],
   "source": [
    "optimizer = BertAdam(list(model.parameters())+list(regressor.parameters()), lr=5e-5,\n",
    "                     weight_decay=1e-2, warmup=0.2, t_total=10*(num_train//batch_size))"
   ]
  },
  {
   "cell_type": "code",
   "execution_count": 38,
   "metadata": {},
   "outputs": [],
   "source": [
    "loss_fn = torch.nn.L1Loss()"
   ]
  },
  {
   "cell_type": "code",
   "execution_count": 39,
   "metadata": {},
   "outputs": [
    {
     "name": "stderr",
     "output_type": "stream",
     "text": [
      "100%|███████████████████████████████████████████| 44/44 [12:44<00:00, 17.38s/it]\n"
     ]
    },
    {
     "name": "stdout",
     "output_type": "stream",
     "text": [
      "---------------------epoch 0----------------------\n",
      "<function mean_absolute_error at 0x7fbba2d953a0> 0.9457354233191725\n",
      "<function mean_squared_error at 0x7fbba2d95d30> 1.5703517851530884\n",
      "<function median_absolute_error at 0x7fbba2d95f70> 0.9560967683792114\n"
     ]
    },
    {
     "name": "stderr",
     "output_type": "stream",
     "text": [
      "100%|███████████████████████████████████████████| 44/44 [14:41<00:00, 20.04s/it]\n"
     ]
    },
    {
     "name": "stdout",
     "output_type": "stream",
     "text": [
      "---------------------epoch 1----------------------\n",
      "<function mean_absolute_error at 0x7fbba2d953a0> 0.8810899388371853\n",
      "<function mean_squared_error at 0x7fbba2d95d30> 1.2417257453197745\n",
      "<function median_absolute_error at 0x7fbba2d95f70> 0.7887363632520039\n"
     ]
    },
    {
     "name": "stderr",
     "output_type": "stream",
     "text": [
      "100%|███████████████████████████████████████████| 44/44 [32:23<00:00, 44.16s/it]\n"
     ]
    },
    {
     "name": "stdout",
     "output_type": "stream",
     "text": [
      "---------------------epoch 2----------------------\n",
      "<function mean_absolute_error at 0x7fbba2d953a0> 0.8684325414268594\n",
      "<function mean_squared_error at 0x7fbba2d95d30> 1.2159604016073853\n",
      "<function median_absolute_error at 0x7fbba2d95f70> 0.7304771343866985\n"
     ]
    },
    {
     "name": "stderr",
     "output_type": "stream",
     "text": [
      "100%|███████████████████████████████████████████| 44/44 [28:10<00:00, 38.41s/it]\n"
     ]
    },
    {
     "name": "stdout",
     "output_type": "stream",
     "text": [
      "---------------------epoch 3----------------------\n",
      "<function mean_absolute_error at 0x7fbba2d953a0> 0.8721571081040199\n",
      "<function mean_squared_error at 0x7fbba2d95d30> 1.30842385881367\n",
      "<function median_absolute_error at 0x7fbba2d95f70> 0.7337990601857505\n"
     ]
    },
    {
     "name": "stderr",
     "output_type": "stream",
     "text": [
      "100%|███████████████████████████████████████████| 44/44 [12:59<00:00, 17.72s/it]\n"
     ]
    },
    {
     "name": "stdout",
     "output_type": "stream",
     "text": [
      "---------------------epoch 4----------------------\n",
      "<function mean_absolute_error at 0x7fbba2d953a0> 0.9099314177506849\n",
      "<function mean_squared_error at 0x7fbba2d95d30> 1.336962712286562\n",
      "<function median_absolute_error at 0x7fbba2d95f70> 0.8078422149022422\n"
     ]
    },
    {
     "name": "stderr",
     "output_type": "stream",
     "text": [
      "100%|███████████████████████████████████████████| 44/44 [13:30<00:00, 18.42s/it]\n"
     ]
    },
    {
     "name": "stdout",
     "output_type": "stream",
     "text": [
      "---------------------epoch 5----------------------\n",
      "<function mean_absolute_error at 0x7fbba2d953a0> 0.959207788894051\n",
      "<function mean_squared_error at 0x7fbba2d95d30> 1.4863309249105594\n",
      "<function median_absolute_error at 0x7fbba2d95f70> 0.7732179860273997\n"
     ]
    },
    {
     "name": "stderr",
     "output_type": "stream",
     "text": [
      "100%|███████████████████████████████████████████| 44/44 [13:01<00:00, 17.77s/it]\n"
     ]
    },
    {
     "name": "stdout",
     "output_type": "stream",
     "text": [
      "---------------------epoch 6----------------------\n",
      "<function mean_absolute_error at 0x7fbba2d953a0> 0.9878640403611617\n",
      "<function mean_squared_error at 0x7fbba2d95d30> 1.5303982849254942\n",
      "<function median_absolute_error at 0x7fbba2d95f70> 0.8752762079238892\n"
     ]
    },
    {
     "name": "stderr",
     "output_type": "stream",
     "text": [
      "100%|███████████████████████████████████████████| 44/44 [13:21<00:00, 18.22s/it]\n"
     ]
    },
    {
     "name": "stdout",
     "output_type": "stream",
     "text": [
      "---------------------epoch 7----------------------\n",
      "<function mean_absolute_error at 0x7fbba2d953a0> 0.9859430426568314\n",
      "<function mean_squared_error at 0x7fbba2d95d30> 1.511545148947009\n",
      "<function median_absolute_error at 0x7fbba2d95f70> 0.839295546213786\n"
     ]
    },
    {
     "name": "stderr",
     "output_type": "stream",
     "text": [
      "100%|███████████████████████████████████████████| 44/44 [13:12<00:00, 18.01s/it]\n"
     ]
    },
    {
     "name": "stdout",
     "output_type": "stream",
     "text": [
      "---------------------epoch 8----------------------\n",
      "<function mean_absolute_error at 0x7fbba2d953a0> 0.9083902200585917\n",
      "<function mean_squared_error at 0x7fbba2d95d30> 1.3428554445483674\n",
      "<function median_absolute_error at 0x7fbba2d95f70> 0.744165857632955\n"
     ]
    },
    {
     "name": "stderr",
     "output_type": "stream",
     "text": [
      "100%|███████████████████████████████████████████| 44/44 [13:04<00:00, 17.84s/it]\n"
     ]
    },
    {
     "name": "stdout",
     "output_type": "stream",
     "text": [
      "---------------------epoch 9----------------------\n",
      "<function mean_absolute_error at 0x7fbba2d953a0> 0.9001904543031727\n",
      "<function mean_squared_error at 0x7fbba2d95d30> 1.325231106782395\n",
      "<function median_absolute_error at 0x7fbba2d95f70> 0.7205376625061035\n"
     ]
    }
   ],
   "source": [
    "for i in range(10):    \n",
    "    for X,y in tqdm(train_dataloader):\n",
    "#         y = y.cuda()\n",
    "        model.train()\n",
    "        regressor.train()\n",
    "        optimizer.zero_grad()\n",
    "        \n",
    "        encoded_input = tokenizer(list(X), padding=True, truncation=True, return_tensors=\"pt\",max_length=512)\n",
    "#         encoded_input = {k:v.cuda() for k,v in encoded_input.items()}\n",
    "        output = model(**encoded_input)\n",
    "        # print(output.pooler_output)\n",
    "        logits = regressor(output.pooler_output)\n",
    "        loss = loss_fn(logits.flatten(), y)\n",
    "        # print(loss)\n",
    "        loss.backward()\n",
    "        optimizer.step()\n",
    "\n",
    "        # break\n",
    "    print(f\"---------------------epoch {i}----------------------\")\n",
    "    with torch.no_grad():\n",
    "        model.eval()\n",
    "        regressor.eval()\n",
    "        y_pred_list = []\n",
    "        y_true_list = []\n",
    "        for X,y in test_dataloader:\n",
    "            encoded_input = tokenizer(list(X), padding=True, truncation=True, return_tensors=\"pt\",max_length=512)\n",
    "            output = model(**encoded_input)\n",
    "            y_pred = regressor(output.pooler_output).flatten().cpu().numpy()\n",
    "            y_pred_list.append(y_pred)\n",
    "            y_true_list.append(y)\n",
    "        y_pred = np.hstack(y_pred_list)\n",
    "        y_true = np.hstack(y_true_list)\n",
    "        ms = [mean_absolute_error, mean_squared_error, median_absolute_error]\n",
    "        for m in ms:\n",
    "            print(m, m(y_true*6, y_pred*6))"
   ]
  },
  {
   "cell_type": "code",
   "execution_count": null,
   "metadata": {},
   "outputs": [],
   "source": []
  }
 ],
 "metadata": {
  "kernelspec": {
   "display_name": "Python 3 (ipykernel)",
   "language": "python",
   "name": "python3"
  },
  "language_info": {
   "codemirror_mode": {
    "name": "ipython",
    "version": 3
   },
   "file_extension": ".py",
   "mimetype": "text/x-python",
   "name": "python",
   "nbconvert_exporter": "python",
   "pygments_lexer": "ipython3",
   "version": "3.9.7"
  }
 },
 "nbformat": 4,
 "nbformat_minor": 4
}
